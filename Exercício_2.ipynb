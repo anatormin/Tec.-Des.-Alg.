{
  "cells": [
    {
      "cell_type": "markdown",
      "metadata": {
        "id": "view-in-github",
        "colab_type": "text"
      },
      "source": [
        "<a href=\"https://colab.research.google.com/github/anatormin/Tec.-Des.-Alg./blob/main/Conhe%C3%A7a_o_Colab.ipynb\" target=\"_parent\"><img src=\"https://colab.research.google.com/assets/colab-badge.svg\" alt=\"Open In Colab\"/></a>"
      ]
    },
    {
      "cell_type": "code",
      "source": [
        "#1. Elabore um programa que solicite ao usuário um número real e ao final imprima na tela se o\n",
        "#número informado é maior que 10 (dez)\n",
        "num = float(input('Digite um número real: '))\n",
        "if num > 10:\n",
        "  print(f'O número {num} é maior que 10.')"
      ],
      "metadata": {
        "id": "4NQhoKhPMfd6"
      },
      "execution_count": null,
      "outputs": []
    },
    {
      "cell_type": "code",
      "source": [
        "#2. Escreva um programa que solicite ao usuário um número real e ao final imprima na tela se\n",
        "#o número informado é maior ou igual a dez ou menor que 10 (dez)\n",
        "num = float(input('Digite um número real: '))\n",
        "if num >= 10:\n",
        "  print(f'O número {num} é maior ou igual a 10.')\n",
        "else:\n",
        "  print(f'O número {num} é menor que 10.')"
      ],
      "metadata": {
        "id": "vWSiONVeMsJO"
      },
      "execution_count": null,
      "outputs": []
    },
    {
      "cell_type": "code",
      "source": [
        "#3. Elabore um algoritmo que solicite ao usuário um número real e ao final imprima na tela se o\n",
        "#número informado é maior que dez, se é menor que dez, ou se é igual a dez\n",
        "num = float(input('Digite um número real: '))\n",
        "if num > 10:\n",
        "    print('O número é maior que dez')\n",
        "elif num < 10:\n",
        "    print('O número é menor que dez')\n",
        "else:\n",
        "    print('O número é igual a dez')"
      ],
      "metadata": {
        "id": "THili8_KMuGG"
      },
      "execution_count": null,
      "outputs": []
    },
    {
      "cell_type": "code",
      "source": [
        "#4. Elabore um algoritmo que solicite ao usuário um número real e ao final imprima na tela se o\n",
        "#número informado é positivo, negativo ou nulo (zero)\n",
        "num = float(input('Digite um número real: '))\n",
        "if num > 0:\n",
        "  print(f'O número {num} é positivo.')\n",
        "elif num < 0:\n",
        "  print(f'O número {num} é negativo.')\n",
        "else:\n",
        "  print(f'O número {num} é nulo.')"
      ],
      "metadata": {
        "id": "dZwR6pH9MwtG"
      },
      "execution_count": null,
      "outputs": []
    },
    {
      "cell_type": "code",
      "source": [
        "#5. Elabore um algoritmo que leia um número inteiro e imprima uma das mensagens: é múltiplo\n",
        "#de 3, ou, não é múltiplo de 3\n",
        "num = int(input('Digite um número inteiro: '))\n",
        "if num % 3 == 0:\n",
        "  print(f'O número {num} é múltiplo de 3.')\n",
        "else:\n",
        "  print(f'O número {num} não é múltiplo de 3.')"
      ],
      "metadata": {
        "id": "BTS7h0RMMy-u"
      },
      "execution_count": null,
      "outputs": []
    },
    {
      "cell_type": "code",
      "source": [
        "#6. Refazer o exercício anterior, solicitando antes o múltiplo a ser testado\n",
        "num = int(input('Digite um número inteiro: '))\n",
        "mult = int(input('Digite o múltiplo a ser testado: '))\n",
        "if num % mult == 0:\n",
        "  print(f'O número {num} é múltiplo de {mult}.')"
      ],
      "metadata": {
        "id": "T21cHSRYM2fL"
      },
      "execution_count": null,
      "outputs": []
    },
    {
      "cell_type": "code",
      "source": [
        "#7. Desenvolva um algoritmo que classifique um número inteiro fornecido pelo usuário como\n",
        "#par ou ímpar\n",
        "num = int(input('Digite um número inteiro: '))\n",
        "if num % 2 == 0:\n",
        "  print(f'O número {num} é par.')\n",
        "else:\n",
        "  print(f'O número {num} é ímpar.')"
      ],
      "metadata": {
        "id": "wNyIlJeEM4qT"
      },
      "execution_count": null,
      "outputs": []
    },
    {
      "cell_type": "code",
      "source": [
        "#8. Elabore um algoritmo que leia um número, e se ele for maior do que 20, imprimir a metade\n",
        "#desse número, caso contrário, imprimir o dobro do número\n",
        "num = float(input('Digite um número: '))\n",
        "if num > 20:\n",
        "  print(f'A metade de {num} é {num / 2}.')\n",
        "else:\n",
        "  print(f'O dobro de {num} é {num * 2}.')"
      ],
      "metadata": {
        "id": "_O82tX-dM6fD"
      },
      "execution_count": null,
      "outputs": []
    },
    {
      "cell_type": "code",
      "source": [
        "#9. Elabore um algoritmo que leia dois números inteiros e realize a adição; caso o resultado\n",
        "#seja maior que 10, imprima o quadrado do resultado, caso contrário, imprima a metade dele\n",
        "num1 = int(input('Digite o primeiro número inteiro: '))\n",
        "num2 = int(input('Digite o segundo número inteiro: '))\n",
        "soma = num1 + num2\n",
        "if soma > 10:\n",
        "  print(f'O quadrado do resultado é {soma ** 2}.')\n",
        "else:\n",
        "  print(f'A metade do resultado é {soma / 2}.')"
      ],
      "metadata": {
        "id": "5gW8F4CvM8Fz"
      },
      "execution_count": null,
      "outputs": []
    },
    {
      "cell_type": "code",
      "source": [
        "#10. O sistema de avaliação de determinada disciplina é composto por três provas. A primeira\n",
        "#prova tem peso 2, a segunda tem peso 3 e a terceira tem peso 5. Considerando que a\n",
        "#média para aprovação é 6.0, faça um algoritmo para calcular a média final de um aluno\n",
        "#desta disciplina e dizer se o aluno foi aprovado ou não\n",
        "prova1 = float(input('Digite a nota da primeira prova: '))\n",
        "prova2 = float(input('Digite a nota da segunda prova: '))\n",
        "prova3 = float(input('Digite a nota da terceira prova: '))\n",
        "media = (prova1 * 2 + prova2 * 3 + prova3 * 5) / (2 + 3 + 5)\n",
        "if media >= 6.0:\n",
        "  print(f'O aluno foi aprovado com média {media:.2f}.')\n",
        "else:\n",
        "  print(f'O aluno foi reprovado com média {media:.2f}.')"
      ],
      "metadata": {
        "id": "IFC-DRZENBFD"
      },
      "execution_count": null,
      "outputs": []
    },
    {
      "cell_type": "code",
      "source": [
        "#11. Elabore um algoritmo que leia o nome e o peso de duas pessoas e imprima o nome da\n",
        "#pessoa mais pesada\n",
        "nome1 = input('Digite o nome da primeira pessoa: ')\n",
        "peso1 = float(input('Digite o peso da primeira pessoa: '))\n",
        "nome2 = input('Digite o nome da segunda pessoa: ')\n",
        "peso2 = float(input('Digite o peso da segunda pessoa: '))\n",
        "if peso1 > peso2:\n",
        "  print(f'A pessoa mais pesada é {nome1} com {peso1} kg.')\n",
        "else:\n",
        "  print(f'A pessoa mais pesada é {nome2} com {peso2} kg.')"
      ],
      "metadata": {
        "id": "htI4-91oNCwj"
      },
      "execution_count": null,
      "outputs": []
    },
    {
      "cell_type": "code",
      "source": [
        "#12. Elabore um algoritmo que indique se um número digitado está compreendido entre 20 e\n",
        "#90, ou não\n",
        "num = float(input('Digite um número: '))\n",
        "if 20 <= num <= 90:\n",
        "  print(f'O número {num} está compreendido entre 20 e 90.')\n",
        "else:\n",
        "  print(f'O número {num} não está compreendido entre 20 e 90.')"
      ],
      "metadata": {
        "id": "kGRvq8wINEMi"
      },
      "execution_count": null,
      "outputs": []
    },
    {
      "cell_type": "code",
      "source": [
        "#13. Elabore um algoritmo que leia dois números e imprima qual é maior, qual é menor, ou se\n",
        "#são iguais\n",
        "num1 = float(input('Digite o primeiro número: '))\n",
        "num2 = float(input('Digite o segundo número: '))\n",
        "if num1 > num2:\n",
        "  print(f'O primeiro número é maior que o segundo.')\n",
        "elif num1 < num2:\n",
        "  print(f'O segundo número é maior que o primeiro.')\n",
        "else:\n",
        "  print(f'Os números são iguais.')"
      ],
      "metadata": {
        "id": "AF0JA-hFNJZH"
      },
      "execution_count": null,
      "outputs": []
    },
    {
      "cell_type": "code",
      "source": [
        "#14. Escreva um programa em linguagem C que solicite ao usuário a média para aprovaçãoem um curso e em seguida solicite ao usuário o nome, sexo e as 03 notas do aluno e ao final imprima a frase: \"O aluno XXXXX foi aprovado com media YY\" considerando o gênero do(a) aluno(a) e se foi aprovado(a) ou reprovado(a)\n",
        "\n",
        "\n",
        "code = r'''\n",
        "#include <stdio.h>\n",
        "\n",
        "int main() {\n",
        "    float media_aprovacao, nota1, nota2, nota3, media;\n",
        "    char nome[50];\n",
        "    char sexo;\n",
        "\n",
        "    // Solicita a média para aprovação\n",
        "    printf(\"Digite a media para aprovacao: \");\n",
        "    scanf(\"%f\", &media_aprovacao);\n",
        "\n",
        "    // Solicita dados do aluno\n",
        "    printf(\"Digite o nome do aluno: \");\n",
        "    scanf(\"%s\", nome);\n",
        "\n",
        "    printf(\"Digite o sexo do aluno (M/F): \");\n",
        "    scanf(\" %c\", &sexo);\n",
        "\n",
        "    printf(\"Digite as 3 notas do aluno: \");\n",
        "    scanf(\"%f %f %f\", &nota1, &nota2, &nota3);\n",
        "\n",
        "    // Calcula a média\n",
        "    media = (nota1 + nota2 + nota3) / 3.0;\n",
        "\n",
        "    // Verifica aprovação e imprime mensagem adequada\n",
        "    if (media >= media_aprovacao) {\n",
        "        if (sexo == 'M' || sexo == 'm') {\n",
        "            printf(\"O aluno %s foi aprovado com media %.2f\\n\", nome, media);\n",
        "        } else {\n",
        "            printf(\"A aluna %s foi aprovada com media %.2f\\n\", nome, media);\n",
        "        }\n",
        "    } else {\n",
        "        if (sexo == 'M' || sexo == 'm') {\n",
        "            printf(\"O aluno %s foi reprovado com media %.2f\\n\", nome, media);\n",
        "        } else {\n",
        "            printf(\"A aluna %s foi reprovada com media %.2f\\n\", nome, media);\n",
        "        }\n",
        "    }\n",
        "\n",
        "    return 0;\n",
        "}\n",
        "'''\n",
        "\n",
        "with open(\"aluno.c\", \"w\") as f:\n",
        "    f.write(code)\n",
        "\n",
        "!gcc aluno.c -o aluno\n",
        "\n",
        "!./aluno"
      ],
      "metadata": {
        "id": "kV94YBruNL7n"
      },
      "execution_count": null,
      "outputs": []
    }
  ],
  "metadata": {
    "colab": {
      "name": "Conheça o Colab",
      "provenance": [],
      "include_colab_link": true
    },
    "kernelspec": {
      "display_name": "Python 3",
      "name": "python3"
    }
  },
  "nbformat": 4,
  "nbformat_minor": 0
}
