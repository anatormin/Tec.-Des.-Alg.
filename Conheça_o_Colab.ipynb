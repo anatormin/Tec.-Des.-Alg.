{
  "cells": [
    {
      "cell_type": "markdown",
      "metadata": {
        "id": "view-in-github",
        "colab_type": "text"
      },
      "source": [
        "<a href=\"https://colab.research.google.com/github/anatormin/Tec.-Des.-Alg./blob/main/Conhe%C3%A7a_o_Colab.ipynb\" target=\"_parent\"><img src=\"https://colab.research.google.com/assets/colab-badge.svg\" alt=\"Open In Colab\"/></a>"
      ]
    },
    {
      "cell_type": "markdown",
      "source": [
        "Ana Luísa Tormin Vaz"
      ],
      "metadata": {
        "id": "bCpQvYondtNx"
      }
    },
    {
      "cell_type": "code",
      "source": [
        "#1. Elabore um algoritmo que imprima na tela lado a lado o texto \"Hello World!\" 10 vezes.\n",
        "\n",
        "for i in range(10):\n",
        "  print(\"Hello World!\", end=\" \")"
      ],
      "metadata": {
        "id": "wo4ooM6HdviE",
        "outputId": "58f0d82e-6120-4bcf-8d2e-9e684bbc1650",
        "colab": {
          "base_uri": "https://localhost:8080/"
        }
      },
      "execution_count": 1,
      "outputs": [
        {
          "output_type": "stream",
          "name": "stdout",
          "text": [
            "Hello World! Hello World! Hello World! Hello World! Hello World! Hello World! Hello World! Hello World! Hello World! Hello World! "
          ]
        }
      ]
    },
    {
      "cell_type": "code",
      "source": [
        "#2. Elabore um algoritmo que imprima na tela o texto \"Hello World!\" 10 vezes, um por linha.\n",
        "for i in range(10):\n",
        "  print(\"Hello World!\")\n",
        ""
      ],
      "metadata": {
        "id": "ryryoJK5d5iX",
        "outputId": "6501b2bb-d093-4157-d72d-2e839dc7d0a7",
        "colab": {
          "base_uri": "https://localhost:8080/"
        }
      },
      "execution_count": 2,
      "outputs": [
        {
          "output_type": "stream",
          "name": "stdout",
          "text": [
            "Hello World!\n",
            "Hello World!\n",
            "Hello World!\n",
            "Hello World!\n",
            "Hello World!\n",
            "Hello World!\n",
            "Hello World!\n",
            "Hello World!\n",
            "Hello World!\n",
            "Hello World!\n"
          ]
        }
      ]
    },
    {
      "cell_type": "code",
      "source": [
        "#3. Elabore um algoritmo que imprima todos os números inteiros de 1 até 100 inclusive.\n",
        "for i in range(1, 101):\n",
        "  print(i)"
      ],
      "metadata": {
        "id": "-mm5oqQod9Qf",
        "outputId": "26c22e5a-dda3-40bb-f231-b0aedff8ec74",
        "colab": {
          "base_uri": "https://localhost:8080/"
        }
      },
      "execution_count": 3,
      "outputs": [
        {
          "output_type": "stream",
          "name": "stdout",
          "text": [
            "1\n",
            "2\n",
            "3\n",
            "4\n",
            "5\n",
            "6\n",
            "7\n",
            "8\n",
            "9\n",
            "10\n",
            "11\n",
            "12\n",
            "13\n",
            "14\n",
            "15\n",
            "16\n",
            "17\n",
            "18\n",
            "19\n",
            "20\n",
            "21\n",
            "22\n",
            "23\n",
            "24\n",
            "25\n",
            "26\n",
            "27\n",
            "28\n",
            "29\n",
            "30\n",
            "31\n",
            "32\n",
            "33\n",
            "34\n",
            "35\n",
            "36\n",
            "37\n",
            "38\n",
            "39\n",
            "40\n",
            "41\n",
            "42\n",
            "43\n",
            "44\n",
            "45\n",
            "46\n",
            "47\n",
            "48\n",
            "49\n",
            "50\n",
            "51\n",
            "52\n",
            "53\n",
            "54\n",
            "55\n",
            "56\n",
            "57\n",
            "58\n",
            "59\n",
            "60\n",
            "61\n",
            "62\n",
            "63\n",
            "64\n",
            "65\n",
            "66\n",
            "67\n",
            "68\n",
            "69\n",
            "70\n",
            "71\n",
            "72\n",
            "73\n",
            "74\n",
            "75\n",
            "76\n",
            "77\n",
            "78\n",
            "79\n",
            "80\n",
            "81\n",
            "82\n",
            "83\n",
            "84\n",
            "85\n",
            "86\n",
            "87\n",
            "88\n",
            "89\n",
            "90\n",
            "91\n",
            "92\n",
            "93\n",
            "94\n",
            "95\n",
            "96\n",
            "97\n",
            "98\n",
            "99\n",
            "100\n"
          ]
        }
      ]
    },
    {
      "cell_type": "code",
      "source": [
        "#4. Elabore um algoritmo que imprima 100 vezes o texto \"1- Hello World!\" com o número.\n",
        "for i in range(1, 101):\n",
        "  print(i, \"- Hello World!\")"
      ],
      "metadata": {
        "id": "eclnrxdieCKL",
        "outputId": "704aab73-4533-4597-d270-3b4a95d4cb87",
        "colab": {
          "base_uri": "https://localhost:8080/"
        }
      },
      "execution_count": 4,
      "outputs": [
        {
          "output_type": "stream",
          "name": "stdout",
          "text": [
            "1 - Hello World!\n",
            "2 - Hello World!\n",
            "3 - Hello World!\n",
            "4 - Hello World!\n",
            "5 - Hello World!\n",
            "6 - Hello World!\n",
            "7 - Hello World!\n",
            "8 - Hello World!\n",
            "9 - Hello World!\n",
            "10 - Hello World!\n",
            "11 - Hello World!\n",
            "12 - Hello World!\n",
            "13 - Hello World!\n",
            "14 - Hello World!\n",
            "15 - Hello World!\n",
            "16 - Hello World!\n",
            "17 - Hello World!\n",
            "18 - Hello World!\n",
            "19 - Hello World!\n",
            "20 - Hello World!\n",
            "21 - Hello World!\n",
            "22 - Hello World!\n",
            "23 - Hello World!\n",
            "24 - Hello World!\n",
            "25 - Hello World!\n",
            "26 - Hello World!\n",
            "27 - Hello World!\n",
            "28 - Hello World!\n",
            "29 - Hello World!\n",
            "30 - Hello World!\n",
            "31 - Hello World!\n",
            "32 - Hello World!\n",
            "33 - Hello World!\n",
            "34 - Hello World!\n",
            "35 - Hello World!\n",
            "36 - Hello World!\n",
            "37 - Hello World!\n",
            "38 - Hello World!\n",
            "39 - Hello World!\n",
            "40 - Hello World!\n",
            "41 - Hello World!\n",
            "42 - Hello World!\n",
            "43 - Hello World!\n",
            "44 - Hello World!\n",
            "45 - Hello World!\n",
            "46 - Hello World!\n",
            "47 - Hello World!\n",
            "48 - Hello World!\n",
            "49 - Hello World!\n",
            "50 - Hello World!\n",
            "51 - Hello World!\n",
            "52 - Hello World!\n",
            "53 - Hello World!\n",
            "54 - Hello World!\n",
            "55 - Hello World!\n",
            "56 - Hello World!\n",
            "57 - Hello World!\n",
            "58 - Hello World!\n",
            "59 - Hello World!\n",
            "60 - Hello World!\n",
            "61 - Hello World!\n",
            "62 - Hello World!\n",
            "63 - Hello World!\n",
            "64 - Hello World!\n",
            "65 - Hello World!\n",
            "66 - Hello World!\n",
            "67 - Hello World!\n",
            "68 - Hello World!\n",
            "69 - Hello World!\n",
            "70 - Hello World!\n",
            "71 - Hello World!\n",
            "72 - Hello World!\n",
            "73 - Hello World!\n",
            "74 - Hello World!\n",
            "75 - Hello World!\n",
            "76 - Hello World!\n",
            "77 - Hello World!\n",
            "78 - Hello World!\n",
            "79 - Hello World!\n",
            "80 - Hello World!\n",
            "81 - Hello World!\n",
            "82 - Hello World!\n",
            "83 - Hello World!\n",
            "84 - Hello World!\n",
            "85 - Hello World!\n",
            "86 - Hello World!\n",
            "87 - Hello World!\n",
            "88 - Hello World!\n",
            "89 - Hello World!\n",
            "90 - Hello World!\n",
            "91 - Hello World!\n",
            "92 - Hello World!\n",
            "93 - Hello World!\n",
            "94 - Hello World!\n",
            "95 - Hello World!\n",
            "96 - Hello World!\n",
            "97 - Hello World!\n",
            "98 - Hello World!\n",
            "99 - Hello World!\n",
            "100 - Hello World!\n"
          ]
        }
      ]
    },
    {
      "cell_type": "code",
      "source": [
        "#5. Elabore um algoritmo que imprima todos os números decrescentes de 100 até 0 inclusive.\n",
        "for i in range(100, -1, -1):\n",
        "  print(i)"
      ],
      "metadata": {
        "id": "UAP-FQ3JeHk0",
        "outputId": "1871e208-b45b-4b8e-cd25-996ee87a33ce",
        "colab": {
          "base_uri": "https://localhost:8080/"
        }
      },
      "execution_count": 5,
      "outputs": [
        {
          "output_type": "stream",
          "name": "stdout",
          "text": [
            "100\n",
            "99\n",
            "98\n",
            "97\n",
            "96\n",
            "95\n",
            "94\n",
            "93\n",
            "92\n",
            "91\n",
            "90\n",
            "89\n",
            "88\n",
            "87\n",
            "86\n",
            "85\n",
            "84\n",
            "83\n",
            "82\n",
            "81\n",
            "80\n",
            "79\n",
            "78\n",
            "77\n",
            "76\n",
            "75\n",
            "74\n",
            "73\n",
            "72\n",
            "71\n",
            "70\n",
            "69\n",
            "68\n",
            "67\n",
            "66\n",
            "65\n",
            "64\n",
            "63\n",
            "62\n",
            "61\n",
            "60\n",
            "59\n",
            "58\n",
            "57\n",
            "56\n",
            "55\n",
            "54\n",
            "53\n",
            "52\n",
            "51\n",
            "50\n",
            "49\n",
            "48\n",
            "47\n",
            "46\n",
            "45\n",
            "44\n",
            "43\n",
            "42\n",
            "41\n",
            "40\n",
            "39\n",
            "38\n",
            "37\n",
            "36\n",
            "35\n",
            "34\n",
            "33\n",
            "32\n",
            "31\n",
            "30\n",
            "29\n",
            "28\n",
            "27\n",
            "26\n",
            "25\n",
            "24\n",
            "23\n",
            "22\n",
            "21\n",
            "20\n",
            "19\n",
            "18\n",
            "17\n",
            "16\n",
            "15\n",
            "14\n",
            "13\n",
            "12\n",
            "11\n",
            "10\n",
            "9\n",
            "8\n",
            "7\n",
            "6\n",
            "5\n",
            "4\n",
            "3\n",
            "2\n",
            "1\n",
            "0\n"
          ]
        }
      ]
    },
    {
      "cell_type": "code",
      "source": [
        "#6. Elabore um algoritmo que imprima todos os números pares inteiros de 1 até 1000.\n",
        "for i in range(2, 1001, 2):\n",
        "  print(i)"
      ],
      "metadata": {
        "id": "KlcaLP3leLe8"
      },
      "execution_count": null,
      "outputs": []
    },
    {
      "cell_type": "code",
      "source": [
        "#7. Elabore um algoritmo que imprima todos os números ímpares de 1000 até 0.\n",
        "for i in range(999, -1, -2):\n",
        "  print(i)"
      ],
      "metadata": {
        "id": "jovWRpudeTjD"
      },
      "execution_count": null,
      "outputs": []
    },
    {
      "cell_type": "code",
      "source": [
        "#8. Elabore um algoritmo que imprima a soma dos 100 primeiros números inteiros positivos.\n",
        "soma = 0\n",
        "for i in range(1, 101):\n",
        "    soma += i\n",
        "\n",
        "print(\"A soma dos 100 primeiros números inteiros positivos é:\", soma)"
      ],
      "metadata": {
        "id": "ml25_cn7eYFz"
      },
      "execution_count": null,
      "outputs": []
    },
    {
      "cell_type": "code",
      "source": [
        "#9. Elabore um algoritmo que solicite ao usuário um número inteiro que indicará a quantidade\n",
        "#de vezes que o texto \"Hello World!\" será impresso na tela, um em cada linha.\n",
        "quantidade = int(input(\"Digite a quantidade de vezes que o texto 'Hello World!' será impresso: \"))\n",
        "\n",
        "for i in range(quantidade):\n",
        "  print(\"Hello World!\")"
      ],
      "metadata": {
        "id": "-HV4rPX2ecuh"
      },
      "execution_count": null,
      "outputs": []
    },
    {
      "cell_type": "code",
      "source": [
        "#10. Elabore um algoritmo que solicite ao usuário uma palavra e um número inteiro que\n",
        "#indicará a quantidade de vezes que a palavra digitada será impressa na tela, um em cada\n",
        "#linha.\n",
        "pal = str(input(\"Digite uma palavra: \"))\n",
        "quantidade = int(input(\"Digite a quantidade de vezes que a palavra será impressa: \"))\n",
        "\n",
        "for i in range(quantidade):\n",
        "  print(pal)"
      ],
      "metadata": {
        "id": "2sIzcxKWefyA"
      },
      "execution_count": null,
      "outputs": []
    },
    {
      "cell_type": "code",
      "source": [
        "#11. Elabore um algoritmo que leia um número de entrada que indicará a quantidade de\n",
        "#números a serem lidos. Em seguida, leia n números (conforme o valor informado\n",
        "#anteriormente) e imprima a soma e a média aritmética dos números informados.\n",
        "quantidade = int(input(\"Digite a quantidade de números a serem lidos: \"))\n",
        "soma = 0\n",
        "\n",
        "for i in range(quantidade):\n",
        "  num = float(input(\"Digite um número: \"))\n",
        "  soma += num\n",
        "  media = soma / quantidade\n",
        "\n",
        "print(\"A soma dos números é:\", soma)\n",
        "print(\"A média dos números é:\", media)"
      ],
      "metadata": {
        "id": "VpwJoTG-ej5U"
      },
      "execution_count": null,
      "outputs": []
    },
    {
      "cell_type": "code",
      "source": [
        "#12. Elabore um algoritmo que leia um número de entrada que indicará a quantidade de\n",
        "#registros a serem lidos (N). Em seguida algoritmo deve solicitar o nome e idade de N\n",
        "#pessoas e ao final apresentar o nome da pessoa mais velha.\n",
        "quantidade = int(input(\"Digite a quantidade de registros a serem lidos: \"))\n",
        "\n",
        "mais_velho = \"\"\n",
        "idade_mais_velho = -1\n",
        "\n",
        "for i in range(quantidade):\n",
        "  nome = input(f\"Digite o nome da pessoa {i+1}: \")\n",
        "  idade = int(input(f\"Digite a idade da pessoa {i+1}: \"))\n",
        "\n",
        "  if idade > idade_mais_velho:\n",
        "    idade_mais_velho = idade\n",
        "    mais_velho = nome\n",
        "\n",
        "print(\"A pessoa mais velha é:\", mais_velho)"
      ],
      "metadata": {
        "id": "kf3GXijFennT"
      },
      "execution_count": null,
      "outputs": []
    },
    {
      "cell_type": "code",
      "source": [
        "#13. Elabore um algoritmo que leia um número de entrada que indicará a quantidade de\n",
        "#registros a serem lidos (N). Em seguida algoritmo deve solicitar o sexo (M/F) e idade de N\n",
        "#pessoas e ao final apresentar a média de idade de ambos os gêneros catalogados.\n",
        "quantidade = int(input(\"Digite a quantidade de registros a serem lidos: \"))\n",
        "soma_m = 0\n",
        "count_m = 0\n",
        "soma_f = 0\n",
        "count_f = 0\n",
        "\n",
        "for i in range(quantidade):\n",
        "  sexo = input(f\"Digite o sexo da pessoa {i+1} (M/F): \").upper()\n",
        "  idade = int(input(f\"Digite a idade da pessoa {i+1}: \"))\n",
        "\n",
        "  if sexo == 'M':\n",
        "    soma_m += idade\n",
        "    count_m += 1\n",
        "  elif sexo == 'F':\n",
        "    soma_f += idade\n",
        "    count_f += 1\n",
        "  else:\n",
        "    print(\"Sexo inválido. Por favor, digite M ou F.\")\n",
        "\n",
        "media_m = soma_m / count_m if count_m > 0 else 0\n",
        "media_f = soma_f / count_f if count_f > 0 else 0\n",
        "\n",
        "print(\"Média de idade para homens:\", media_m)\n",
        "print(\"Média de idade para mulheres:\", media_f)"
      ],
      "metadata": {
        "id": "lxO5qDeMerb5"
      },
      "execution_count": null,
      "outputs": []
    },
    {
      "cell_type": "code",
      "source": [
        "#14. Elabore um algoritmo que solicite ao usuário 10 números reais e ao final apresente o\n",
        "#maior e o menor deles.\n",
        "maior = float('-inf')\n",
        "menor = float('inf')\n",
        "\n",
        "for i in range(10):\n",
        "  numero = float(input(f\"Digite o número {i+1}: \"))\n",
        "  if numero > maior:\n",
        "    maior = numero\n",
        "  if numero < menor:\n",
        "    menor = numero\n",
        "\n",
        "print(\"O maior número é:\", maior)\n",
        "print(\"O menor número é:\", menor)"
      ],
      "metadata": {
        "id": "9gOyPijtexp4"
      },
      "execution_count": null,
      "outputs": []
    },
    {
      "cell_type": "code",
      "source": [
        "#15. Elabore um algoritmo que solicite N números reais e quando o usuário informar o valor\n",
        "#nulo 0 (zero) o programa ordene e mostre todos os números informados de forma crescente.\n",
        "\n",
        "numeros = []\n",
        "while True:\n",
        "  numero = float(input(\"Digite um número (ou 0 para parar): \"))\n",
        "  if numero == 0:\n",
        "    break\n",
        "  numeros.append(numero)\n",
        "\n",
        "numeros.sort()\n",
        "print(\"Números informados em ordem crescente:\")\n",
        "for num in numeros:\n",
        "  print(num)"
      ],
      "metadata": {
        "id": "77DyUvTbe1vm"
      },
      "execution_count": null,
      "outputs": []
    },
    {
      "cell_type": "code",
      "source": [
        "#16. Escreva um programa que vá solicitando as idades dos alunos da sala até que todos\n",
        "#sejam informados (perguntar ao usuário se deseja informar a idade do próximo aluno). Ao\n",
        "#final apresentar a idade do mais novo, a idade do mais velho, Quantos alunos têm mais de\n",
        "#18 anos, quantos alunos têm até 18 anos, a média aritmética e a mediana.\n",
        "\n",
        "idades = []\n",
        "while True:\n",
        "    idade_str = input(\"Digite a idade do aluno (ou 'fim' para encerrar): \")\n",
        "    if idade_str.lower() == 'fim':\n",
        "        break\n",
        "    try:\n",
        "        idade = int(idade_str)\n",
        "        idades.append(idade)\n",
        "    except ValueError:\n",
        "        print(\"Idade inválida. Por favor, digite um número inteiro ou 'fim'.\")\n",
        "\n",
        "if idades:\n",
        "    mais_novo = min(idades)\n",
        "    mais_velho = max(idades)\n",
        "    maiores_de_18 = sum(1 for idade in idades if idade > 18)\n",
        "    ate_18 = sum(1 for idade in idades if idade <= 18)\n",
        "    media = sum(idades) / len(idades)\n",
        "\n",
        "    idades.sort()\n",
        "    n = len(idades)\n",
        "    if n % 2 == 0:\n",
        "        mediana = (idades[n // 2 - 1] + idades[n // 2]) / 2\n",
        "    else:\n",
        "        mediana = idades[n // 2]\n",
        "\n",
        "    print(\"\\nResultados:\")\n",
        "    print(\"Idade do mais novo:\", mais_novo)\n",
        "    print(\"Idade do mais velho:\", mais_velho)\n",
        "    print(\"Alunos com mais de 18 anos:\", maiores_de_18)\n",
        "    print(\"Alunos com até 18 anos:\", ate_18)\n",
        "    print(\"Média aritmética das idades:\", media)\n",
        "    print(\"Mediana das idades:\", mediana)\n",
        "else:\n",
        "    print(\"Nenhuma idade foi informada.\")"
      ],
      "metadata": {
        "id": "abNMaNeWe8MR",
        "outputId": "87ce297e-e788-4b4b-8ce6-f96003357b9b",
        "colab": {
          "base_uri": "https://localhost:8080/"
        }
      },
      "execution_count": 6,
      "outputs": [
        {
          "output_type": "stream",
          "name": "stdout",
          "text": [
            "Digite a idade do aluno (ou 'fim' para encerrar): 13\n",
            "Digite a idade do aluno (ou 'fim' para encerrar): 7\n",
            "Digite a idade do aluno (ou 'fim' para encerrar): 24\n",
            "Digite a idade do aluno (ou 'fim' para encerrar): 69\n",
            "Digite a idade do aluno (ou 'fim' para encerrar): 5\n",
            "Digite a idade do aluno (ou 'fim' para encerrar): 6\n",
            "Digite a idade do aluno (ou 'fim' para encerrar): 4\n",
            "Digite a idade do aluno (ou 'fim' para encerrar): 3\n",
            "Digite a idade do aluno (ou 'fim' para encerrar): 7\n",
            "Digite a idade do aluno (ou 'fim' para encerrar): 9\n",
            "Digite a idade do aluno (ou 'fim' para encerrar): 1\n",
            "Digite a idade do aluno (ou 'fim' para encerrar): 5\n",
            "Digite a idade do aluno (ou 'fim' para encerrar): 30\n",
            "Digite a idade do aluno (ou 'fim' para encerrar): 09\n",
            "Digite a idade do aluno (ou 'fim' para encerrar): fim\n",
            "\n",
            "Resultados:\n",
            "Idade do mais novo: 1\n",
            "Idade do mais velho: 69\n",
            "Alunos com mais de 18 anos: 3\n",
            "Alunos com até 18 anos: 11\n",
            "Média aritmética das idades: 13.714285714285714\n",
            "Mediana das idades: 7.0\n"
          ]
        }
      ]
    }
  ],
  "metadata": {
    "colab": {
      "name": "Conheça o Colab",
      "toc_visible": true,
      "provenance": [],
      "include_colab_link": true
    },
    "kernelspec": {
      "display_name": "Python 3",
      "name": "python3"
    }
  },
  "nbformat": 4,
  "nbformat_minor": 0
}